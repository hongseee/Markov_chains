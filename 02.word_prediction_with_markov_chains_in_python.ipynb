{
 "cells": [
  {
   "cell_type": "code",
   "execution_count": 1,
   "id": "revised-elizabeth",
   "metadata": {},
   "outputs": [],
   "source": [
    "import numpy as np"
   ]
  },
  {
   "cell_type": "code",
   "execution_count": 2,
   "id": "norman-courage",
   "metadata": {},
   "outputs": [],
   "source": [
    "lexicon = {}"
   ]
  },
  {
   "cell_type": "code",
   "execution_count": 3,
   "id": "absolute-territory",
   "metadata": {},
   "outputs": [],
   "source": [
    "def update_lexicon(current : str, next_word : str) -> None:\n",
    "    \"\"\"Add item to the lexicon.\n",
    "    Args:\n",
    "        current (str): Input word.\n",
    "        next_word (str): Output word.\n",
    "    \"\"\"\n",
    "\n",
    "    # Add the input word to the lexicon if it in there yet.\n",
    "    if current not in lexicon:\n",
    "        lexicon.update({current: {next_word: 1} })\n",
    "        return\n",
    "\n",
    "    # Recieve te probabilties of the input word.\n",
    "    options = lexicon[current]\n",
    "\n",
    "    # Check if the output word is in the propability list.\n",
    "    if next_word not in options:\n",
    "        options.update({next_word : 1})\n",
    "    else:\n",
    "        options.update({next_word : options[next_word] + 1})\n",
    "\n",
    "    # Update the lexicon\n",
    "    lexicon[current] = options"
   ]
  },
  {
   "cell_type": "code",
   "execution_count": 5,
   "id": "motivated-thing",
   "metadata": {},
   "outputs": [],
   "source": [
    "with open('data/dataset.txt', 'r') as dataset:\n",
    "    for line in dataset:\n",
    "        words = line.strip().split(' ')\n",
    "        for i in range(len(words) - 1):\n",
    "            update_lexicon(words[i], words[i+1])"
   ]
  },
  {
   "cell_type": "code",
   "execution_count": 7,
   "id": "accredited-advance",
   "metadata": {},
   "outputs": [
    {
     "data": {
      "text/plain": [
       "{'what': {'time': 1, 'is': 2},\n",
       " 'time': {'is': 1},\n",
       " 'is': {'it?': 2, 'time?': 1, 'it': 1},\n",
       " 'it': {'time?': 1}}"
      ]
     },
     "execution_count": 7,
     "metadata": {},
     "output_type": "execute_result"
    }
   ],
   "source": [
    "lexicon"
   ]
  },
  {
   "cell_type": "code",
   "execution_count": 8,
   "id": "atlantic-amplifier",
   "metadata": {},
   "outputs": [],
   "source": [
    "for word, transition in lexicon.items():\n",
    "    transition = dict((key, value / sum(transition.values())) for key, value in transition.items())\n",
    "    lexicon[word] = transition"
   ]
  },
  {
   "cell_type": "code",
   "execution_count": 9,
   "id": "distinct-delhi",
   "metadata": {},
   "outputs": [
    {
     "data": {
      "text/plain": [
       "{'what': {'time': 0.3333333333333333, 'is': 0.6666666666666666},\n",
       " 'time': {'is': 1.0},\n",
       " 'is': {'it?': 0.5, 'time?': 0.25, 'it': 0.25},\n",
       " 'it': {'time?': 1.0}}"
      ]
     },
     "execution_count": 9,
     "metadata": {},
     "output_type": "execute_result"
    }
   ],
   "source": [
    "lexicon"
   ]
  },
  {
   "cell_type": "code",
   "execution_count": 11,
   "id": "pleasant-venice",
   "metadata": {},
   "outputs": [],
   "source": [
    "def wordInput():\n",
    "    line = input('> ')\n",
    "    word = line.strip().split(' ')[-1]\n",
    "    if word not in lexicon:\n",
    "        print('Word not found')\n",
    "    else:\n",
    "        options = lexicon[word]\n",
    "        predicted = np.random.choice(list(options.keys()), p=list(options.values()))\n",
    "        print(line + ' ' + predicted)"
   ]
  },
  {
   "cell_type": "code",
   "execution_count": 10,
   "id": "tutorial-architect",
   "metadata": {},
   "outputs": [
    {
     "name": "stdout",
     "output_type": "stream",
     "text": [
      "> what\n",
      "what is\n"
     ]
    }
   ],
   "source": [
    "line = input('> ')\n",
    "word = line.strip().split(' ')[-1]\n",
    "if word not in lexicon:\n",
    "    print('Word not found')\n",
    "else:\n",
    "    options = lexicon[word]\n",
    "    predicted = np.random.choice(list(options.keys()), p=list(options.values()))\n",
    "    print(line + ' ' + predicted)"
   ]
  },
  {
   "cell_type": "code",
   "execution_count": 12,
   "id": "distributed-february",
   "metadata": {},
   "outputs": [
    {
     "name": "stdout",
     "output_type": "stream",
     "text": [
      "> what time\n",
      "what time is\n"
     ]
    }
   ],
   "source": [
    "wordInput()"
   ]
  },
  {
   "cell_type": "code",
   "execution_count": null,
   "id": "assured-horizontal",
   "metadata": {},
   "outputs": [],
   "source": []
  }
 ],
 "metadata": {
  "kernelspec": {
   "display_name": "Python 3",
   "language": "python",
   "name": "python3"
  },
  "language_info": {
   "codemirror_mode": {
    "name": "ipython",
    "version": 3
   },
   "file_extension": ".py",
   "mimetype": "text/x-python",
   "name": "python",
   "nbconvert_exporter": "python",
   "pygments_lexer": "ipython3",
   "version": "3.9.7"
  },
  "toc": {
   "base_numbering": 1,
   "nav_menu": {},
   "number_sections": true,
   "sideBar": true,
   "skip_h1_title": false,
   "title_cell": "Table of Contents",
   "title_sidebar": "Contents",
   "toc_cell": false,
   "toc_position": {},
   "toc_section_display": true,
   "toc_window_display": false
  }
 },
 "nbformat": 4,
 "nbformat_minor": 5
}
